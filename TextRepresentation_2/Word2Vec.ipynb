{
 "cells": [
  {
   "cell_type": "code",
   "execution_count": null,
   "id": "8e107165",
   "metadata": {},
   "outputs": [],
   "source": [
    "## Can download from kaggle manually\n",
    "# https://www.kaggle.com/datasets/leadbest/googlenewsvectorsnegative300\n"
   ]
  },
  {
   "cell_type": "code",
   "execution_count": null,
   "id": "84cbda83",
   "metadata": {},
   "outputs": [
    {
     "name": "stdout",
     "output_type": "stream",
     "text": [
      "--2025-08-22 09:20:46--  https://figshare.com/ndownloader/files/10798046\n",
      "Resolving figshare.com (figshare.com)... 52.17.173.242, 54.75.186.223, 52.208.255.91, ...\n",
      "Connecting to figshare.com (figshare.com)|52.17.173.242|:443... connected.\n",
      "HTTP request sent, awaiting response... 403 Forbidden\n",
      "2025-08-22 09:20:48 ERROR 403: Forbidden.\n",
      "\n"
     ]
    }
   ],
   "source": [
    "# !wget -c \"https://s3.amazonaws.com/dl4j-distribution/GoogleNews-vectors-negative300.bin.gz\"\n",
    "\n",
    "# import gensim.downloader as api\n",
    "# wv = api.load('word2vec-google-news-300')\n",
    "\n",
    "# !wget -c https://figshare.com/ndownloader/files/10798046 -O GoogleNews-vectors-negative300.bin\n"
   ]
  },
  {
   "cell_type": "code",
   "execution_count": null,
   "id": "b1991905",
   "metadata": {},
   "outputs": [],
   "source": [
    "# import requests\n",
    "\n",
    "# url = \"https://s3.amazonaws.com/dl4j-distribution/GoogleNews-vectors-negative300.bin.gz\"\n",
    "# filename = \"GoogleNews-vectors-negative300.bin.gz\"\n",
    "\n",
    "# response = requests.get(url, stream=True)\n",
    "# with open(filename, \"wb\") as f:\n",
    "#     for chunk in response.iter_content(chunk_size=1024):\n",
    "#         if chunk:\n",
    "#             f.write(chunk)\n",
    "\n",
    "# print(\"Download complete:\", filename)\n"
   ]
  },
  {
   "cell_type": "code",
   "execution_count": null,
   "id": "427be36d",
   "metadata": {},
   "outputs": [],
   "source": [
    "# from dotenv import load_dotenv\n",
    "# load_dotenv()\n",
    "\n",
    "# from gensim.models import KeyedVectors\n",
    "# from huggingface_hub import hf_hub_download\n",
    "\n",
    "# # Download the model file from Hugging Face\n",
    "# model_path = hf_hub_download(\n",
    "#     repo_id=\"fse/word2vec-google-news-300\", \n",
    "#     filename=\"GoogleNews-vectors-negative300.bin.gz\"\n",
    "# )\n",
    "\n",
    "# # Load into gensim\n",
    "# model = KeyedVectors.load_word2vec_format(model_path, binary=True)\n",
    "\n",
    "# # Test it out\n",
    "# print(model.most_similar(\"king\"))\n"
   ]
  },
  {
   "cell_type": "code",
   "execution_count": null,
   "id": "17564de5",
   "metadata": {},
   "outputs": [],
   "source": [
    "# from transformers import AutoTokenizer, AutoModel\n",
    "# import torch\n",
    "\n",
    "# # Load a strong sentence embedding model\n",
    "# model_id = \"sentence-transformers/all-MiniLM-L6-v2\"\n",
    "# tokenizer = AutoTokenizer.from_pretrained(model_id)\n",
    "# model = AutoModel.from_pretrained(model_id)\n",
    "\n",
    "# # Encode text\n",
    "# inputs = tokenizer(\"king\", return_tensors=\"pt\")\n",
    "# outputs = model(**inputs)\n",
    "\n",
    "# embedding = outputs.last_hidden_state.mean(dim=1)  # sentence-level embedding\n",
    "# print(embedding.shape)  # (1, hidden_dim)\n"
   ]
  },
  {
   "cell_type": "code",
   "execution_count": 15,
   "id": "a2bf3939",
   "metadata": {},
   "outputs": [],
   "source": [
    "import gensim\n",
    "from gensim.models import Word2Vec, KeyedVectors\n"
   ]
  },
  {
   "cell_type": "code",
   "execution_count": null,
   "id": "669c8376",
   "metadata": {},
   "outputs": [
    {
     "name": "stdout",
     "output_type": "stream",
     "text": [
      "True\n"
     ]
    }
   ],
   "source": [
    "import os\n",
    "\n",
    "model_path = \"/mnt/d/padma/klizo_agent/PySpark/GoogleNews-vectors-negative300.bin\"\n",
    "print(os.path.exists(model_path))  # Should print True\n"
   ]
  },
  {
   "cell_type": "code",
   "execution_count": null,
   "id": "c1e391c8",
   "metadata": {},
   "outputs": [],
   "source": [
    "import gensim\n",
    "from gensim.models import Word2Vec, KeyedVectors"
   ]
  },
  {
   "cell_type": "code",
   "execution_count": null,
   "id": "86a52379",
   "metadata": {},
   "outputs": [],
   "source": [
    "model_path = \"/mnt/d/padma/klizo_agent/PySpark/GoogleNews-vectors-negative300.bin\"\n",
    "model = KeyedVectors.load_word2vec_format(model_path, binary=True)\n"
   ]
  },
  {
   "cell_type": "code",
   "execution_count": null,
   "id": "1458f111",
   "metadata": {},
   "outputs": [
    {
     "data": {
      "text/plain": [
       "array([ 0.32617188,  0.13085938,  0.03466797, -0.08300781,  0.08984375,\n",
       "       -0.04125977, -0.19824219,  0.00689697,  0.14355469,  0.0019455 ,\n",
       "        0.02880859, -0.25      , -0.08398438, -0.15136719, -0.10205078,\n",
       "        0.04077148, -0.09765625,  0.05932617,  0.02978516, -0.10058594,\n",
       "       -0.13085938,  0.001297  ,  0.02612305, -0.27148438,  0.06396484,\n",
       "       -0.19140625, -0.078125  ,  0.25976562,  0.375     , -0.04541016,\n",
       "        0.16210938,  0.13671875, -0.06396484, -0.02062988, -0.09667969,\n",
       "        0.25390625,  0.24804688, -0.12695312,  0.07177734,  0.3203125 ,\n",
       "        0.03149414, -0.03857422,  0.21191406, -0.00811768,  0.22265625,\n",
       "       -0.13476562, -0.07617188,  0.01049805, -0.05175781,  0.03808594,\n",
       "       -0.13378906,  0.125     ,  0.0559082 , -0.18261719,  0.08154297,\n",
       "       -0.08447266, -0.07763672, -0.04345703,  0.08105469, -0.01092529,\n",
       "        0.17480469,  0.30664062, -0.04321289, -0.01416016,  0.09082031,\n",
       "       -0.00927734, -0.03442383, -0.11523438,  0.12451172, -0.0246582 ,\n",
       "        0.08544922,  0.14355469, -0.27734375,  0.03662109, -0.11035156,\n",
       "        0.13085938, -0.01721191, -0.08056641, -0.00708008, -0.02954102,\n",
       "        0.30078125, -0.09033203,  0.03149414, -0.18652344, -0.11181641,\n",
       "        0.10253906, -0.25976562, -0.02209473,  0.16796875, -0.05322266,\n",
       "       -0.14550781, -0.01049805, -0.03039551, -0.03857422,  0.11523438,\n",
       "       -0.0062561 , -0.13964844,  0.08007812,  0.06103516, -0.15332031,\n",
       "       -0.11132812, -0.14160156,  0.19824219, -0.06933594,  0.29296875,\n",
       "       -0.16015625,  0.20898438,  0.00041771,  0.01831055, -0.20214844,\n",
       "        0.04760742,  0.05810547, -0.0123291 , -0.01989746, -0.00364685,\n",
       "       -0.0135498 , -0.08251953, -0.03149414,  0.00717163,  0.20117188,\n",
       "        0.08300781, -0.0480957 , -0.26367188, -0.09667969, -0.22558594,\n",
       "       -0.09667969,  0.06494141, -0.02502441,  0.08496094,  0.03198242,\n",
       "       -0.07568359, -0.25390625, -0.11669922, -0.01446533, -0.16015625,\n",
       "       -0.00701904, -0.05712891,  0.02807617, -0.09179688,  0.25195312,\n",
       "        0.24121094,  0.06640625,  0.12988281,  0.17089844, -0.13671875,\n",
       "        0.1875    , -0.10009766, -0.04199219, -0.12011719,  0.00524902,\n",
       "        0.15625   , -0.203125  , -0.07128906, -0.06103516,  0.01635742,\n",
       "        0.18261719,  0.03588867, -0.04248047,  0.16796875, -0.15039062,\n",
       "       -0.16992188,  0.01831055,  0.27734375, -0.01269531, -0.0390625 ,\n",
       "       -0.15429688,  0.18457031, -0.07910156,  0.09033203, -0.02709961,\n",
       "        0.08251953,  0.06738281, -0.16113281, -0.19628906, -0.15234375,\n",
       "       -0.04711914,  0.04760742,  0.05908203, -0.16894531, -0.14941406,\n",
       "        0.12988281,  0.04321289,  0.02624512, -0.1796875 , -0.19628906,\n",
       "        0.06445312,  0.08935547,  0.1640625 , -0.03808594, -0.09814453,\n",
       "       -0.01483154,  0.1875    ,  0.12792969,  0.22753906,  0.01818848,\n",
       "       -0.07958984, -0.11376953, -0.06933594, -0.15527344, -0.08105469,\n",
       "       -0.09277344, -0.11328125, -0.15136719, -0.08007812, -0.05126953,\n",
       "       -0.15332031,  0.11669922,  0.06835938,  0.0324707 , -0.33984375,\n",
       "       -0.08154297, -0.08349609,  0.04003906,  0.04907227, -0.24121094,\n",
       "       -0.13476562, -0.05932617,  0.12158203, -0.34179688,  0.16503906,\n",
       "        0.06176758, -0.18164062,  0.20117188, -0.07714844,  0.1640625 ,\n",
       "        0.00402832,  0.30273438, -0.10009766, -0.13671875, -0.05957031,\n",
       "        0.0625    , -0.21289062, -0.06542969,  0.1796875 , -0.07763672,\n",
       "       -0.01928711, -0.15039062, -0.00106049,  0.03417969,  0.03344727,\n",
       "        0.19335938,  0.01965332, -0.19921875, -0.10644531,  0.01525879,\n",
       "        0.00927734,  0.01416016, -0.02392578,  0.05883789,  0.02368164,\n",
       "        0.125     ,  0.04760742, -0.05566406,  0.11572266,  0.14746094,\n",
       "        0.1015625 , -0.07128906, -0.07714844, -0.12597656,  0.0291748 ,\n",
       "        0.09521484, -0.12402344, -0.109375  , -0.12890625,  0.16308594,\n",
       "        0.28320312, -0.03149414,  0.12304688, -0.23242188, -0.09375   ,\n",
       "       -0.12988281,  0.0135498 , -0.03881836, -0.08251953,  0.00897217,\n",
       "        0.16308594,  0.10546875, -0.13867188, -0.16503906, -0.03857422,\n",
       "        0.10839844, -0.10498047,  0.06396484,  0.38867188, -0.05981445,\n",
       "       -0.0612793 , -0.10449219, -0.16796875,  0.07177734,  0.13964844,\n",
       "        0.15527344, -0.03125   , -0.20214844, -0.12988281, -0.10058594,\n",
       "       -0.06396484, -0.08349609, -0.30273438, -0.08007812,  0.02099609],\n",
       "      dtype=float32)"
      ]
     },
     "execution_count": 5,
     "metadata": {},
     "output_type": "execute_result"
    }
   ],
   "source": [
    "model['man'] #-3 to +3 range \n"
   ]
  },
  {
   "cell_type": "code",
   "execution_count": null,
   "id": "2001198d",
   "metadata": {},
   "outputs": [
    {
     "data": {
      "text/plain": [
       "(300,)"
      ]
     },
     "execution_count": 6,
     "metadata": {},
     "output_type": "execute_result"
    },
    {
     "ename": "",
     "evalue": "",
     "output_type": "error",
     "traceback": [
      "\u001b[1;31mThe Kernel crashed while executing code in the current cell or a previous cell. \n",
      "\u001b[1;31mPlease review the code in the cell(s) to identify a possible cause of the failure. \n",
      "\u001b[1;31mClick <a href='https://aka.ms/vscodeJupyterKernelCrash'>here</a> for more info. \n",
      "\u001b[1;31mView Jupyter <a href='command:jupyter.viewOutput'>log</a> for further details."
     ]
    }
   ],
   "source": [
    "model['man'].shape\n"
   ]
  },
  {
   "cell_type": "code",
   "execution_count": null,
   "id": "5a4d59d0",
   "metadata": {},
   "outputs": [],
   "source": [
    "model.most_similar('man')\n"
   ]
  },
  {
   "cell_type": "code",
   "execution_count": null,
   "id": "37f3d784",
   "metadata": {},
   "outputs": [],
   "source": [
    "model.similarity('man', 'women')\n"
   ]
  },
  {
   "cell_type": "code",
   "execution_count": null,
   "id": "f66101e5",
   "metadata": {},
   "outputs": [],
   "source": [
    "model.doesnt_match(['PHP', 'java', 'water'])\n"
   ]
  },
  {
   "cell_type": "code",
   "execution_count": null,
   "id": "98b3c5ca",
   "metadata": {},
   "outputs": [],
   "source": [
    "vec = model['king'] - model['man'] + model['women']\n",
    "model.most_similar([vec])\n"
   ]
  },
  {
   "cell_type": "code",
   "execution_count": null,
   "id": "2d9346de",
   "metadata": {},
   "outputs": [],
   "source": []
  },
  {
   "cell_type": "markdown",
   "id": "6af74670",
   "metadata": {},
   "source": [
    "#### different optimized way"
   ]
  },
  {
   "cell_type": "code",
   "execution_count": null,
   "id": "4e2f7002",
   "metadata": {},
   "outputs": [],
   "source": [
    "from gensim.models import KeyedVectors\n",
    "\n",
    "model_path = \"/mnt/d/padma/klizo_agent/PySpark/GoogleNews-vectors-negative300.bin\"\n",
    "\n",
    "model = KeyedVectors.load_word2vec_format(model_path, binary=True, limit=500000)\n",
    "\n",
    "print(model.most_similar(\"man\"))\n"
   ]
  },
  {
   "cell_type": "code",
   "execution_count": null,
   "id": "e55375c2",
   "metadata": {},
   "outputs": [],
   "source": [
    "from gensim.models import KeyedVectors\n",
    "\n",
    "model = KeyedVectors.load_word2vec_format(\n",
    "    model_path, \n",
    "    binary=True, \n",
    "    mmap='r'   # read-only memory-mapping\n",
    ")\n",
    "\n",
    "print(model.most_similar(\"man\"))\n"
   ]
  },
  {
   "cell_type": "code",
   "execution_count": null,
   "id": "c6169c3f",
   "metadata": {},
   "outputs": [],
   "source": [
    "model.save(\"GoogleNews300.model\")\n",
    "\n",
    "# Next time, just load it much faster:\n",
    "model = KeyedVectors.load(\"GoogleNews300.model\", mmap='r')\n"
   ]
  },
  {
   "cell_type": "code",
   "execution_count": null,
   "id": "f5f3c7b8",
   "metadata": {},
   "outputs": [],
   "source": [
    "words = [\"man\", \"woman\", \"king\", \"queen\"]\n",
    "small_model = {w: model[w] for w in words if w in model.key_to_index}\n"
   ]
  }
 ],
 "metadata": {
  "kernelspec": {
   "display_name": "Python 3",
   "language": "python",
   "name": "python3"
  },
  "language_info": {
   "codemirror_mode": {
    "name": "ipython",
    "version": 3
   },
   "file_extension": ".py",
   "mimetype": "text/x-python",
   "name": "python",
   "nbconvert_exporter": "python",
   "pygments_lexer": "ipython3",
   "version": "3.12.11"
  }
 },
 "nbformat": 4,
 "nbformat_minor": 5
}
