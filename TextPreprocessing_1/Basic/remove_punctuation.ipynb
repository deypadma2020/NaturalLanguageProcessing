{
 "cells": [
  {
   "cell_type": "code",
   "execution_count": 19,
   "id": "84cdaec7",
   "metadata": {},
   "outputs": [],
   "source": [
    "import string, time"
   ]
  },
  {
   "cell_type": "code",
   "execution_count": 20,
   "id": "20830552",
   "metadata": {},
   "outputs": [
    {
     "data": {
      "text/plain": [
       "'!\"#$%&\\'()*+,-./:;<=>?@[\\\\]^_`{|}~'"
      ]
     },
     "execution_count": 20,
     "metadata": {},
     "output_type": "execute_result"
    }
   ],
   "source": [
    "string.punctuation"
   ]
  },
  {
   "cell_type": "code",
   "execution_count": 21,
   "id": "d46625d1",
   "metadata": {},
   "outputs": [],
   "source": [
    "exclude = string.punctuation\n"
   ]
  },
  {
   "cell_type": "code",
   "execution_count": 22,
   "id": "775d36d1",
   "metadata": {},
   "outputs": [],
   "source": [
    "def remove_punc1(text):\n",
    "    for char in exclude:\n",
    "        text = text.replace(char, '')\n",
    "    return text"
   ]
  },
  {
   "cell_type": "code",
   "execution_count": 23,
   "id": "991e32cd",
   "metadata": {},
   "outputs": [],
   "source": [
    "sample_text = \"\"\"\n",
    "Hello! How are you doing today? I hope everything's fine: let's test all punctuation marks.  \n",
    "Here they are: !\"#$%&'()*+,-./:;<=>?@[\\]^_`{|}~  \n",
    "Make sure each one is included in your text for processing.\n",
    "\"\"\"\n"
   ]
  },
  {
   "cell_type": "code",
   "execution_count": 24,
   "id": "6f2e16ea",
   "metadata": {},
   "outputs": [
    {
     "name": "stdout",
     "output_type": "stream",
     "text": [
      "\n",
      "Hello How are you doing today I hope everythings fine lets test all punctuation marks  \n",
      "Here they are   \n",
      "Make sure each one is included in your text for processing\n",
      "\n",
      "50.09174346923828\n"
     ]
    }
   ],
   "source": [
    "start_time = time.time()\n",
    "\n",
    "print(remove_punc(sample_text))\n",
    "\n",
    "end_time1 = time.time() - start_time\n",
    "print(end_time1 * 50000)"
   ]
  },
  {
   "cell_type": "code",
   "execution_count": null,
   "id": "8ab5dfdf",
   "metadata": {},
   "outputs": [],
   "source": []
  },
  {
   "cell_type": "code",
   "execution_count": null,
   "id": "addaab69",
   "metadata": {},
   "outputs": [],
   "source": []
  },
  {
   "cell_type": "code",
   "execution_count": 25,
   "id": "458f7f93",
   "metadata": {},
   "outputs": [],
   "source": [
    "sample_text = \"\"\"\n",
    "Hello! How are you doing today? I hope everything's fine: let's test all punctuation marks.  \n",
    "Here they are: !\"#$%&'()*+,-./:;<=>?@[\\]^_`{|}~  \n",
    "Make sure each one is included in your text for processing.\n",
    "\"\"\"\n"
   ]
  },
  {
   "cell_type": "code",
   "execution_count": 26,
   "id": "736164f4",
   "metadata": {},
   "outputs": [],
   "source": [
    "def remove_punc2(text):\n",
    "    return text.translate(str.maketrans('', '', exclude))"
   ]
  },
  {
   "cell_type": "code",
   "execution_count": 27,
   "id": "f3e1571b",
   "metadata": {},
   "outputs": [
    {
     "name": "stdout",
     "output_type": "stream",
     "text": [
      "\n",
      "Hello How are you doing today I hope everythings fine lets test all punctuation marks  \n",
      "Here they are   \n",
      "Make sure each one is included in your text for processing\n",
      "\n",
      "50.15134811401367\n"
     ]
    }
   ],
   "source": [
    "start_time = time.time()\n",
    "\n",
    "print(remove_punc(sample_text))\n",
    "\n",
    "end_time2 = time.time() - start_time\n",
    "print(end_time2 * 50000)"
   ]
  },
  {
   "cell_type": "code",
   "execution_count": 28,
   "id": "62d6a823",
   "metadata": {},
   "outputs": [
    {
     "data": {
      "text/plain": [
       "0.9988115046351319"
      ]
     },
     "execution_count": 28,
     "metadata": {},
     "output_type": "execute_result"
    }
   ],
   "source": [
    "end_time1 / end_time2"
   ]
  },
  {
   "cell_type": "code",
   "execution_count": null,
   "id": "bff7aa7d",
   "metadata": {},
   "outputs": [],
   "source": []
  },
  {
   "cell_type": "code",
   "execution_count": null,
   "id": "badbcb95",
   "metadata": {},
   "outputs": [],
   "source": []
  },
  {
   "cell_type": "code",
   "execution_count": null,
   "id": "7fd44aea",
   "metadata": {},
   "outputs": [],
   "source": []
  },
  {
   "cell_type": "code",
   "execution_count": 29,
   "id": "aef54b0a",
   "metadata": {},
   "outputs": [
    {
     "data": {
      "text/html": [
       "<div>\n",
       "<style scoped>\n",
       "    .dataframe tbody tr th:only-of-type {\n",
       "        vertical-align: middle;\n",
       "    }\n",
       "\n",
       "    .dataframe tbody tr th {\n",
       "        vertical-align: top;\n",
       "    }\n",
       "\n",
       "    .dataframe thead th {\n",
       "        text-align: right;\n",
       "    }\n",
       "</style>\n",
       "<table border=\"1\" class=\"dataframe\">\n",
       "  <thead>\n",
       "    <tr style=\"text-align: right;\">\n",
       "      <th></th>\n",
       "      <th>id</th>\n",
       "      <th>label</th>\n",
       "      <th>tweet</th>\n",
       "    </tr>\n",
       "  </thead>\n",
       "  <tbody>\n",
       "    <tr>\n",
       "      <th>14805</th>\n",
       "      <td>14806</td>\n",
       "      <td>0</td>\n",
       "      <td>good nightð #ã»ã¼ã©ã¼ã ã¼ã³ #ã»ã¼ã...</td>\n",
       "    </tr>\n",
       "    <tr>\n",
       "      <th>21224</th>\n",
       "      <td>21225</td>\n",
       "      <td>0</td>\n",
       "      <td>so orange is the new black has released all 13...</td>\n",
       "    </tr>\n",
       "    <tr>\n",
       "      <th>11807</th>\n",
       "      <td>11808</td>\n",
       "      <td>0</td>\n",
       "      <td>#yay #pb today for this #year #150kg #deadlift...</td>\n",
       "    </tr>\n",
       "  </tbody>\n",
       "</table>\n",
       "</div>"
      ],
      "text/plain": [
       "          id  label                                              tweet\n",
       "14805  14806      0  good nightð #ã»ã¼ã©ã¼ã ã¼ã³ #ã»ã¼ã...\n",
       "21224  21225      0  so orange is the new black has released all 13...\n",
       "11807  11808      0  #yay #pb today for this #year #150kg #deadlift..."
      ]
     },
     "execution_count": 29,
     "metadata": {},
     "output_type": "execute_result"
    }
   ],
   "source": [
    "import pandas as pd\n",
    "\n",
    "df = pd.read_csv(\"https://raw.githubusercontent.com/JeninaAngelin/Sentiment-Analysis-for-Hate-Speech-Detection/refs/heads/main/train_E6oV3lV.csv\")\n",
    "df.sample(3)"
   ]
  },
  {
   "cell_type": "code",
   "execution_count": 30,
   "id": "7ce9d958",
   "metadata": {},
   "outputs": [],
   "source": [
    "def remove_punc2(text):\n",
    "    return text.translate(str.maketrans('', '', exclude))"
   ]
  },
  {
   "cell_type": "code",
   "execution_count": 32,
   "id": "4c266e46",
   "metadata": {},
   "outputs": [
    {
     "data": {
      "text/html": [
       "<div>\n",
       "<style scoped>\n",
       "    .dataframe tbody tr th:only-of-type {\n",
       "        vertical-align: middle;\n",
       "    }\n",
       "\n",
       "    .dataframe tbody tr th {\n",
       "        vertical-align: top;\n",
       "    }\n",
       "\n",
       "    .dataframe thead th {\n",
       "        text-align: right;\n",
       "    }\n",
       "</style>\n",
       "<table border=\"1\" class=\"dataframe\">\n",
       "  <thead>\n",
       "    <tr style=\"text-align: right;\">\n",
       "      <th></th>\n",
       "      <th>id</th>\n",
       "      <th>label</th>\n",
       "      <th>tweet</th>\n",
       "    </tr>\n",
       "  </thead>\n",
       "  <tbody>\n",
       "    <tr>\n",
       "      <th>8986</th>\n",
       "      <td>8987</td>\n",
       "      <td>0</td>\n",
       "      <td>aol has 42 stories in its newsfeed and not 1 i...</td>\n",
       "    </tr>\n",
       "    <tr>\n",
       "      <th>23506</th>\n",
       "      <td>23507</td>\n",
       "      <td>0</td>\n",
       "      <td>user prayers to victims of the senseless act ...</td>\n",
       "    </tr>\n",
       "    <tr>\n",
       "      <th>17591</th>\n",
       "      <td>17592</td>\n",
       "      <td>0</td>\n",
       "      <td>user user ok we are so cool hyung</td>\n",
       "    </tr>\n",
       "    <tr>\n",
       "      <th>999</th>\n",
       "      <td>1000</td>\n",
       "      <td>0</td>\n",
       "      <td>user next chapter in life stas soon looking a...</td>\n",
       "    </tr>\n",
       "    <tr>\n",
       "      <th>24478</th>\n",
       "      <td>24479</td>\n",
       "      <td>0</td>\n",
       "      <td>let me guess the bon voyage thing is on vlive ...</td>\n",
       "    </tr>\n",
       "  </tbody>\n",
       "</table>\n",
       "</div>"
      ],
      "text/plain": [
       "          id  label                                              tweet\n",
       "8986    8987      0  aol has 42 stories in its newsfeed and not 1 i...\n",
       "23506  23507      0   user prayers to victims of the senseless act ...\n",
       "17591  17592      0                user user ok we are so cool hyung  \n",
       "999     1000      0   user next chapter in life stas soon looking a...\n",
       "24478  24479      0  let me guess the bon voyage thing is on vlive ..."
      ]
     },
     "execution_count": 32,
     "metadata": {},
     "output_type": "execute_result"
    }
   ],
   "source": [
    "df['tweet'] = df['tweet'].apply(remove_punc2)\n",
    "df.sample(5)"
   ]
  },
  {
   "cell_type": "code",
   "execution_count": null,
   "id": "b9a7b7b1",
   "metadata": {},
   "outputs": [],
   "source": []
  }
 ],
 "metadata": {
  "kernelspec": {
   "display_name": "base",
   "language": "python",
   "name": "python3"
  },
  "language_info": {
   "codemirror_mode": {
    "name": "ipython",
    "version": 3
   },
   "file_extension": ".py",
   "mimetype": "text/x-python",
   "name": "python",
   "nbconvert_exporter": "python",
   "pygments_lexer": "ipython3",
   "version": "3.11.9"
  }
 },
 "nbformat": 4,
 "nbformat_minor": 5
}
