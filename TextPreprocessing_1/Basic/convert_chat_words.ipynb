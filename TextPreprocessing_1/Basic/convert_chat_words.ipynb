{
 "cells": [
  {
   "cell_type": "code",
   "execution_count": 1,
   "id": "5107fa8c",
   "metadata": {},
   "outputs": [
    {
     "ename": "AttributeError",
     "evalue": "module 'pandas' has no attribute 'read_text'",
     "output_type": "error",
     "traceback": [
      "\u001b[1;31m---------------------------------------------------------------------------\u001b[0m",
      "\u001b[1;31mAttributeError\u001b[0m                            Traceback (most recent call last)",
      "Cell \u001b[1;32mIn[1], line 3\u001b[0m\n\u001b[0;32m      1\u001b[0m \u001b[38;5;28;01mimport\u001b[39;00m\u001b[38;5;250m \u001b[39m\u001b[38;5;21;01mpandas\u001b[39;00m\u001b[38;5;250m \u001b[39m\u001b[38;5;28;01mas\u001b[39;00m\u001b[38;5;250m \u001b[39m\u001b[38;5;21;01mpd\u001b[39;00m\n\u001b[1;32m----> 3\u001b[0m df \u001b[38;5;241m=\u001b[39m pd\u001b[38;5;241m.\u001b[39mread_text(\u001b[38;5;124m\"\u001b[39m\u001b[38;5;124mhttps://raw.githubusercontent.com/rishabhverma17/sms_slang_translator/refs/heads/master/slang.txt\u001b[39m\u001b[38;5;124m\"\u001b[39m)\n\u001b[0;32m      4\u001b[0m df\n",
      "\u001b[1;31mAttributeError\u001b[0m: module 'pandas' has no attribute 'read_text'"
     ]
    }
   ],
   "source": [
    "import pandas as pd\n",
    "\n",
    "df = pd.read_text(\"https://raw.githubusercontent.com/rishabhverma17/sms_slang_translator/refs/heads/master/slang.txt\")\n",
    "df"
   ]
  },
  {
   "cell_type": "code",
   "execution_count": 3,
   "id": "e25a94a6",
   "metadata": {},
   "outputs": [
    {
     "name": "stdout",
     "output_type": "stream",
     "text": [
      "A3 : Anytime, Anywhere, Anyplace\n",
      "ADIH : Another Day In Hell\n",
      "AFK : Away From Keyboard\n",
      "AFAIK : As Far As I Know\n",
      "ASAP : As Soon As Possible\n",
      "ASL : Age, Sex, Location\n",
      "ATK : At The Keyboard\n",
      "ATM : At The Moment\n",
      "BAE : Before Anyone Else\n",
      "BAK : Back At Keyboard\n"
     ]
    }
   ],
   "source": [
    "import requests\n",
    "\n",
    "url = \"https://raw.githubusercontent.com/rishabhverma17/sms_slang_translator/refs/heads/master/slang.txt\"\n",
    "response = requests.get(url)\n",
    "\n",
    "slang_dict = {}\n",
    "for line in response.text.splitlines():\n",
    "    if \"=\" in line:\n",
    "        key, value = line.split(\"=\", 1)  # split only on the first '='\n",
    "        slang_dict[key.strip()] = value.strip()\n",
    "\n",
    "# Print first 10 entries\n",
    "for i, (k, v) in enumerate(slang_dict.items()):\n",
    "    print(k, \":\", v)\n",
    "    if i == 9:\n",
    "        break\n"
   ]
  },
  {
   "cell_type": "code",
   "execution_count": null,
   "id": "4dd9db6e",
   "metadata": {},
   "outputs": [],
   "source": [
    "def chat_conversion(text):\n",
    "    new_text = []\n",
    "    for w in text.split():\n",
    "        if w.upper() in chatwords:\n",
    "            new_text.append(chatwords[w.upper()])\n",
    "        else:\n",
    "            new_text.append(w)\n",
    "\n",
    "    return \" \".join(new_text)"
   ]
  },
  {
   "cell_type": "code",
   "execution_count": 4,
   "id": "78d496d1",
   "metadata": {},
   "outputs": [],
   "source": [
    "def chat_conversion(text, chatwords):\n",
    "    \"\"\"\n",
    "    Converts slang/abbreviations in the input text to their full form\n",
    "    using the provided chatwords dictionary.\n",
    "    \n",
    "    Parameters:\n",
    "    text (str): Input text containing slang\n",
    "    chatwords (dict): Dictionary mapping slang (uppercase) to full forms\n",
    "    \n",
    "    Returns:\n",
    "    str: Text with slang replaced by full forms\n",
    "    \"\"\"\n",
    "    new_text = []\n",
    "    for word in text.split():\n",
    "        # Remove punctuation from the word for matching\n",
    "        clean_word = word.strip(\".,!?;:\").upper()\n",
    "        if clean_word in chatwords:\n",
    "            # Preserve original punctuation\n",
    "            replacement = chatwords[clean_word]\n",
    "            if word[-1] in \".,!?;:\":\n",
    "                replacement += word[-1]\n",
    "            new_text.append(replacement)\n",
    "        else:\n",
    "            new_text.append(word)\n",
    "    \n",
    "    return \" \".join(new_text)\n"
   ]
  },
  {
   "cell_type": "code",
   "execution_count": 5,
   "id": "f2e89ecb",
   "metadata": {},
   "outputs": [
    {
     "name": "stdout",
     "output_type": "stream",
     "text": [
      "Be Right Back! I need to check my At The Moment balance As Soon As Possible.\n"
     ]
    }
   ],
   "source": [
    "sample_text = \"BRB! I need to check my ATM balance ASAP.\"\n",
    "converted_text = chat_conversion(sample_text, slang_dict)\n",
    "print(converted_text)\n"
   ]
  },
  {
   "cell_type": "code",
   "execution_count": null,
   "id": "c8a30e2b",
   "metadata": {},
   "outputs": [],
   "source": []
  }
 ],
 "metadata": {
  "kernelspec": {
   "display_name": "base",
   "language": "python",
   "name": "python3"
  },
  "language_info": {
   "codemirror_mode": {
    "name": "ipython",
    "version": 3
   },
   "file_extension": ".py",
   "mimetype": "text/x-python",
   "name": "python",
   "nbconvert_exporter": "python",
   "pygments_lexer": "ipython3",
   "version": "3.11.9"
  }
 },
 "nbformat": 4,
 "nbformat_minor": 5
}
