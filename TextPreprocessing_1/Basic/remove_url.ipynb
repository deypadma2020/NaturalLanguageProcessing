{
 "cells": [
  {
   "cell_type": "code",
   "execution_count": 1,
   "id": "7fa8e705",
   "metadata": {},
   "outputs": [],
   "source": [
    "sample_texts = [\n",
    "    \"Check out the official website for more info: https://www.example.com\",\n",
    "    \"You can follow our blog at http://blog.example.org or our forum at https://forum.example.org\",\n",
    "    \"Download the report here: https://downloads.example.com/report.pdf and the dataset at http://data.example.com/data.csv\",\n",
    "    \"For tutorials, visit https://learn.example.com/tutorials. Also, our GitHub repo is at https://github.com/example/repo\",\n",
    "    \"Contact us via email or visit our homepage: https://example.com, https://support.example.com, and http://community.example.com\"\n",
    "]\n"
   ]
  },
  {
   "cell_type": "code",
   "execution_count": 3,
   "id": "5233f0b7",
   "metadata": {},
   "outputs": [],
   "source": [
    "import re\n",
    "\n",
    "def remove_url(text):\n",
    "    pattern = re.compile(r'https?://\\S+|WWW\\.\\S+')\n",
    "    return pattern.sub(r'', text)"
   ]
  },
  {
   "cell_type": "code",
   "execution_count": 5,
   "id": "05e8b20f",
   "metadata": {},
   "outputs": [
    {
     "name": "stdout",
     "output_type": "stream",
     "text": [
      "['Check out the official website for more info: ', 'You can follow our blog at  or our forum at ', 'Download the report here:  and the dataset at ', 'For tutorials, visit  Also, our GitHub repo is at ', 'Contact us via email or visit our homepage:   and ']\n"
     ]
    }
   ],
   "source": [
    "clean_texts = [remove_url(t) for t in sample_texts]\n",
    "print(clean_texts)"
   ]
  },
  {
   "cell_type": "code",
   "execution_count": null,
   "id": "5bb5a0b1",
   "metadata": {},
   "outputs": [],
   "source": []
  }
 ],
 "metadata": {
  "kernelspec": {
   "display_name": "base",
   "language": "python",
   "name": "python3"
  },
  "language_info": {
   "codemirror_mode": {
    "name": "ipython",
    "version": 3
   },
   "file_extension": ".py",
   "mimetype": "text/x-python",
   "name": "python",
   "nbconvert_exporter": "python",
   "pygments_lexer": "ipython3",
   "version": "3.11.9"
  }
 },
 "nbformat": 4,
 "nbformat_minor": 5
}
