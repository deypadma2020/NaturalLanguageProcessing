{
 "cells": [
  {
   "cell_type": "markdown",
   "id": "3da58de5",
   "metadata": {},
   "source": [
    "### Remove emojis"
   ]
  },
  {
   "cell_type": "code",
   "execution_count": null,
   "id": "b5b54755",
   "metadata": {},
   "outputs": [],
   "source": [
    "import re\n",
    "\n",
    "# Precompiled emoji pattern\n",
    "emoji_pattern = re.compile(\"[\" \n",
    "    u\"\\U0001F600-\\U0001F64F\"  # emoticons\n",
    "    u\"\\U0001F300-\\U0001F5FF\"  # symbols & pictographs\n",
    "    u\"\\U0001F680-\\U0001F6FF\"  # transport & map symbols\n",
    "    u\"\\U0001F1E0-\\U0001F1FF\"  # flags\n",
    "    \"]+\", flags=re.UNICODE)\n",
    "\n",
    "def remove_emoji(text):\n",
    "    text = emoji_pattern.sub(r'', text)\n",
    "    return text\n",
    "\n",
    "# Example usage\n",
    "sample_text = \"Hello 😊! Let's remove emojis 🚀🌟.\"\n",
    "print(remove_emoji(sample_text))\n"
   ]
  },
  {
   "cell_type": "code",
   "execution_count": null,
   "id": "7559ac6e",
   "metadata": {},
   "outputs": [],
   "source": [
    "import re\n",
    "\n",
    "def remove_emoji(text):\n",
    "    emoji_pattern = re.compile(\"[\"\n",
    "        u\"\\U0001F600-\\U0001F64F\"  # emoticons\n",
    "        u\"\\U0001F300-\\U0001F5FF\"  # symbols & pictographs\n",
    "        u\"\\U0001F680-\\U0001F6FF\"  # transport & map symbols\n",
    "        u\"\\U0001F1E0-\\U0001F1FF\"  # flags\n",
    "        \"]+\", flags=re.UNICODE)\n",
    "    return emoji_pattern.sub(r'', text)\n",
    "\n",
    "# Example usage\n",
    "sample_text = \"Hello 😊! How are you?\"\n",
    "print(remove_emoji(sample_text))\n"
   ]
  },
  {
   "cell_type": "markdown",
   "id": "c28fb793",
   "metadata": {},
   "source": [
    "### Replace emoji with actual meaning"
   ]
  },
  {
   "cell_type": "code",
   "execution_count": 1,
   "id": "6b204327",
   "metadata": {},
   "outputs": [],
   "source": [
    "sample_text = \"\"\"\n",
    "Good morning! ☀️🌸 Let's grab some coffee ☕ and \n",
    "start coding 💻😄. Don't forget to smile 😁!\n",
    "\"\"\"\n"
   ]
  },
  {
   "cell_type": "code",
   "execution_count": 2,
   "id": "c252a8d4",
   "metadata": {},
   "outputs": [
    {
     "name": "stdout",
     "output_type": "stream",
     "text": [
      "\n",
      "Good morning! :sun::cherry_blossom: Let's grab some coffee :hot_beverage: and \n",
      "start coding :laptop::grinning_face_with_smiling_eyes:. Don't forget to smile :beaming_face_with_smiling_eyes:!\n",
      "\n"
     ]
    }
   ],
   "source": [
    "import emoji\n",
    "\n",
    "print(emoji.demojize(sample_text))"
   ]
  },
  {
   "cell_type": "code",
   "execution_count": null,
   "id": "cce57f0a",
   "metadata": {},
   "outputs": [],
   "source": []
  }
 ],
 "metadata": {
  "kernelspec": {
   "display_name": "base",
   "language": "python",
   "name": "python3"
  },
  "language_info": {
   "codemirror_mode": {
    "name": "ipython",
    "version": 3
   },
   "file_extension": ".py",
   "mimetype": "text/x-python",
   "name": "python",
   "nbconvert_exporter": "python",
   "pygments_lexer": "ipython3",
   "version": "3.11.9"
  }
 },
 "nbformat": 4,
 "nbformat_minor": 5
}
