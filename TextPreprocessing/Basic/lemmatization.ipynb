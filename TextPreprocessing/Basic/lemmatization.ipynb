{
 "cells": [
  {
   "cell_type": "markdown",
   "id": "b064fbe7",
   "metadata": {},
   "source": [
    "#### Lemmatization: It is unlike Stemming, reduces the inflected words properly ensuring that the root word belongs to the language. In Lemmatization root word is called Lemma. A lemma(plural lemmas or lemmata) is the canonical form, dictionary form, or citation form of a set of words."
   ]
  },
  {
   "cell_type": "code",
   "execution_count": 10,
   "id": "4778071b",
   "metadata": {},
   "outputs": [
    {
     "name": "stderr",
     "output_type": "stream",
     "text": [
      "[nltk_data] Downloading package punkt to\n",
      "[nltk_data]     C:\\Users\\user\\AppData\\Roaming\\nltk_data...\n",
      "[nltk_data]   Package punkt is already up-to-date!\n",
      "[nltk_data] Downloading package wordnet to\n",
      "[nltk_data]     C:\\Users\\user\\AppData\\Roaming\\nltk_data...\n"
     ]
    }
   ],
   "source": [
    "import nltk\n",
    "from nltk.stem import WordNetLemmatizer\n",
    "\n",
    "nltk.download('punkt')\n",
    "nltk.download('wordnet')\n",
    "\n",
    "wordnet_lemmatizer = WordNetLemmatizer()"
   ]
  },
  {
   "cell_type": "code",
   "execution_count": 11,
   "id": "15396650",
   "metadata": {},
   "outputs": [],
   "source": [
    "text = \"Cars are running fast, children are playing, and the leaves are falling from the trees.\"\n"
   ]
  },
  {
   "cell_type": "code",
   "execution_count": 12,
   "id": "a7228d50",
   "metadata": {},
   "outputs": [],
   "source": [
    "punc = \"?:!.,;\"\n",
    "sentence_words = nltk.word_tokenize(text)\n"
   ]
  },
  {
   "cell_type": "code",
   "execution_count": 13,
   "id": "8e8f5c04",
   "metadata": {},
   "outputs": [],
   "source": [
    "for word in sentence_words:\n",
    "    if word in punc:\n",
    "        sentence_words.remove(word)\n"
   ]
  },
  {
   "cell_type": "code",
   "execution_count": 14,
   "id": "8b88f29c",
   "metadata": {},
   "outputs": [
    {
     "data": {
      "text/plain": [
       "['Cars',\n",
       " 'are',\n",
       " 'running',\n",
       " 'fast',\n",
       " 'children',\n",
       " 'are',\n",
       " 'playing',\n",
       " 'and',\n",
       " 'the',\n",
       " 'leaves',\n",
       " 'are',\n",
       " 'falling',\n",
       " 'from',\n",
       " 'the',\n",
       " 'trees']"
      ]
     },
     "execution_count": 14,
     "metadata": {},
     "output_type": "execute_result"
    }
   ],
   "source": [
    "sentence_words"
   ]
  },
  {
   "cell_type": "code",
   "execution_count": null,
   "id": "5c29870d",
   "metadata": {},
   "outputs": [
    {
     "name": "stdout",
     "output_type": "stream",
     "text": [
      "word                Lemma               \n"
     ]
    }
   ],
   "source": []
  },
  {
   "cell_type": "code",
   "execution_count": 21,
   "id": "a20e7f64",
   "metadata": {},
   "outputs": [
    {
     "name": "stdout",
     "output_type": "stream",
     "text": [
      "word                Lemma               \n",
      "--------------------------\n",
      "Cars                Cars                \n",
      "are                 be                  \n",
      "running             run                 \n",
      "fast                fast                \n",
      "children            children            \n",
      "are                 be                  \n",
      "playing             play                \n",
      "and                 and                 \n",
      "the                 the                 \n",
      "leaves              leave               \n",
      "are                 be                  \n",
      "falling             fall                \n",
      "from                from                \n",
      "the                 the                 \n",
      "trees               tree                \n"
     ]
    }
   ],
   "source": [
    "print(\"{0:20}{1:20}\".format(\"word\", \"Lemma\"))\n",
    "print('-' * 26)\n",
    "\n",
    "for word in sentence_words:\n",
    "    print(\"{0:20}{1:20}\".format(word, wordnet_lemmatizer.lemmatize(word, pos='v')))"
   ]
  },
  {
   "cell_type": "code",
   "execution_count": null,
   "id": "dafa5f7d",
   "metadata": {},
   "outputs": [],
   "source": []
  }
 ],
 "metadata": {
  "kernelspec": {
   "display_name": "base",
   "language": "python",
   "name": "python3"
  },
  "language_info": {
   "codemirror_mode": {
    "name": "ipython",
    "version": 3
   },
   "file_extension": ".py",
   "mimetype": "text/x-python",
   "name": "python",
   "nbconvert_exporter": "python",
   "pygments_lexer": "ipython3",
   "version": "3.11.9"
  }
 },
 "nbformat": 4,
 "nbformat_minor": 5
}
